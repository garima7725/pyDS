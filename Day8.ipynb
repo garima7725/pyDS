{
  "nbformat": 4,
  "nbformat_minor": 0,
  "metadata": {
    "colab": {
      "name": "Untitled6.ipynb",
      "provenance": [],
      "authorship_tag": "ABX9TyNJ7VAkY/DadEbfaqte252F",
      "include_colab_link": true
    },
    "kernelspec": {
      "name": "python3",
      "display_name": "Python 3"
    }
  },
  "cells": [
    {
      "cell_type": "markdown",
      "metadata": {
        "id": "view-in-github",
        "colab_type": "text"
      },
      "source": [
        "<a href=\"https://colab.research.google.com/github/garima7725/pyDS/blob/master/Day8.ipynb\" target=\"_parent\"><img src=\"https://colab.research.google.com/assets/colab-badge.svg\" alt=\"Open In Colab\"/></a>"
      ]
    },
    {
      "cell_type": "code",
      "metadata": {
        "id": "76YG30oyIKl6",
        "colab_type": "code",
        "colab": {}
      },
      "source": [
        ""
      ],
      "execution_count": 0,
      "outputs": []
    },
    {
      "cell_type": "markdown",
      "metadata": {
        "id": "-r2UQkugIP2X",
        "colab_type": "text"
      },
      "source": [
        "Make a ndarray by using np.arange(120), reshape it into shape of (2,3,4,5) and do the following operation on this new ndarray:\n",
        "\n",
        "1.Access the value 91 using indexing \n",
        "2.obtain a range of value 35-39 from this ndarray \n",
        "3.Make another 1D array from this having values 0 and all multiples of 5 \n",
        "4.obtain mean values on axis-3 elements."
      ]
    },
    {
      "cell_type": "code",
      "metadata": {
        "id": "5Cd9RYMmIfDG",
        "colab_type": "code",
        "colab": {
          "base_uri": "https://localhost:8080/",
          "height": 202
        },
        "outputId": "473afabe-561f-4636-9fbb-2c575ba0d558"
      },
      "source": [
        "import numpy as np\n",
        "a = np.arange(120).reshape(2,3,4,5)\n",
        "\n",
        "res = a[1,1,2,1]\n",
        "print(res)\n",
        "\n",
        "result= np.where(np.logical_and(a >=35,a<=39))\n",
        "print(\"result\", result)\n",
        "\n",
        "a_id= np.arange(0,120,5)\n",
        "print(\"Id array\",a_id)\n",
        "\n",
        "m=a.mean(axis=3)\n",
        "print(\"mean\",m)"
      ],
      "execution_count": 1,
      "outputs": [
        {
          "output_type": "stream",
          "text": [
            "91\n",
            "result (array([0, 0, 0, 0, 0]), array([1, 1, 1, 1, 1]), array([3, 3, 3, 3, 3]), array([0, 1, 2, 3, 4]))\n",
            "Id array [  0   5  10  15  20  25  30  35  40  45  50  55  60  65  70  75  80  85\n",
            "  90  95 100 105 110 115]\n",
            "mean [[[  2.   7.  12.  17.]\n",
            "  [ 22.  27.  32.  37.]\n",
            "  [ 42.  47.  52.  57.]]\n",
            "\n",
            " [[ 62.  67.  72.  77.]\n",
            "  [ 82.  87.  92.  97.]\n",
            "  [102. 107. 112. 117.]]]\n"
          ],
          "name": "stdout"
        }
      ]
    },
    {
      "cell_type": "markdown",
      "metadata": {
        "id": "5Hl4m2ytIyA1",
        "colab_type": "text"
      },
      "source": [
        "\n",
        "Make a numpy ndarray np.linspace(5,20,24), and reshape into shape of (4,6).\n",
        "\n",
        "1.Split and stack to make array of shape (4,4) such that it contain elements of first, second ,fourth and sixth column.\n",
        "\n",
        "2.Split and stack to make array of shape (2,2) such that it contain elements of first and fourth row and third and fifth column."
      ]
    },
    {
      "cell_type": "code",
      "metadata": {
        "id": "OgHrTZ5qI37x",
        "colab_type": "code",
        "colab": {
          "base_uri": "https://localhost:8080/",
          "height": 151
        },
        "outputId": "a9f0f97d-6680-426e-dc67-153dea8b7e50"
      },
      "source": [
        "arr=np.linspace(5,20,24) \n",
        "arr  \n",
        "arr=np.reshape(arr,(4,6)) \n",
        "arr"
      ],
      "execution_count": 2,
      "outputs": [
        {
          "output_type": "execute_result",
          "data": {
            "text/plain": [
              "array([[ 5.        ,  5.65217391,  6.30434783,  6.95652174,  7.60869565,\n",
              "         8.26086957],\n",
              "       [ 8.91304348,  9.56521739, 10.2173913 , 10.86956522, 11.52173913,\n",
              "        12.17391304],\n",
              "       [12.82608696, 13.47826087, 14.13043478, 14.7826087 , 15.43478261,\n",
              "        16.08695652],\n",
              "       [16.73913043, 17.39130435, 18.04347826, 18.69565217, 19.34782609,\n",
              "        20.        ]])"
            ]
          },
          "metadata": {
            "tags": []
          },
          "execution_count": 2
        }
      ]
    },
    {
      "cell_type": "markdown",
      "metadata": {
        "id": "Azyu3vCXJBOn",
        "colab_type": "text"
      },
      "source": [
        "Plot a function of log2 and straight line $y = 0.5x - 1$ using matplotlib and find out approximate value at which they intersect. Make sure you have legend in the figure naming the curve."
      ]
    },
    {
      "cell_type": "code",
      "metadata": {
        "id": "S_a56BvmJFOn",
        "colab_type": "code",
        "colab": {
          "base_uri": "https://localhost:8080/",
          "height": 330
        },
        "outputId": "5d254eda-2ba1-4e1a-f6f8-7efb705ee84c"
      },
      "source": [
        "import matplotlib.pyplot as plt \n",
        "import numpy as np\n",
        "\n",
        "in_a = [1,1.2,1.4,1.6,1.8,2]\n",
        "out_a = np.log2(in_a)\n",
        "\n",
        "print(\"out_a :\", out_a)\n",
        "\n",
        "#plt.plot(in_a, in_a, color = 'blue',marker = \"*\")\n",
        "#red for numpy.log2()\n",
        "plt.plot(out_a, in_a, color='red', marker='o')\n",
        "plt.title(\"numpy.log2()\")\n",
        "plt.xlabel(\"out_a\")\n",
        "plt.ylabel(\"in_a\")\n",
        "\n",
        "\"\"\" y = 0.5x -1\"\"\"\n",
        "\n",
        "x = np.arange(0.0,2.0,0.01)\n",
        "y = 0.5*x -1\n",
        "plt.plot(x,y,color = 'blue')"
      ],
      "execution_count": 3,
      "outputs": [
        {
          "output_type": "stream",
          "text": [
            "out_a : [0.         0.26303441 0.48542683 0.67807191 0.84799691 1.        ]\n"
          ],
          "name": "stdout"
        },
        {
          "output_type": "execute_result",
          "data": {
            "text/plain": [
              "[<matplotlib.lines.Line2D at 0x7f91a40a5cf8>]"
            ]
          },
          "metadata": {
            "tags": []
          },
          "execution_count": 3
        },
        {
          "output_type": "display_data",
          "data": {
            "image/png": "[encoded data removed]",
            "text/plain": [
              "<Figure size 432x288 with 1 Axes>"
            ]
          },
          "metadata": {
            "tags": [],
            "needs_background": "light"
          }
        }
      ]
    }
  ]
}