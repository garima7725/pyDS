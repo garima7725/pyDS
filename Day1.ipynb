{
  "nbformat": 4,
  "nbformat_minor": 0,
  "metadata": {
    "colab": {
      "name": "Untitled3.ipynb",
      "provenance": [],
      "authorship_tag": "ABX9TyNajhUyXXp1iHGweUc1o7uV",
      "include_colab_link": true
    },
    "kernelspec": {
      "name": "python3",
      "display_name": "Python 3"
    }
  },
  "cells": [
    {
      "cell_type": "markdown",
      "metadata": {
        "id": "view-in-github",
        "colab_type": "text"
      },
      "source": [
        "<a href=\"https://colab.research.google.com/github/garima7725/pyDS/blob/master/Day1.ipynb\" target=\"_parent\"><img src=\"https://colab.research.google.com/assets/colab-badge.svg\" alt=\"Open In Colab\"/></a>"
      ]
    },
    {
      "cell_type": "code",
      "metadata": {
        "id": "aoFS3WO5fBFb",
        "colab_type": "code",
        "colab": {}
      },
      "source": [
        ""
      ],
      "execution_count": 0,
      "outputs": []
    },
    {
      "cell_type": "markdown",
      "metadata": {
        "id": "qWoGfNJsfUVJ",
        "colab_type": "text"
      },
      "source": [
        "\n",
        "Ques 1:- list of the first 15 even numbers that are not divisible by 6"
      ]
    },
    {
      "cell_type": "code",
      "metadata": {
        "id": "m96bhQovfW8u",
        "colab_type": "code",
        "colab": {
          "base_uri": "https://localhost:8080/",
          "height": 34
        },
        "outputId": "7508329a-fcda-4724-ef7b-d9022c087bab"
      },
      "source": [
        "l = []\n",
        "x = 0\n",
        "count = 0\n",
        "while True:\n",
        "  if x % 6 != 0 and x % 2 == 0:\n",
        "    count = count + 1\n",
        "    l.append(x)\n",
        "  if count == 15:\n",
        "    break\n",
        "  x = x + 1\n",
        "\n",
        "print(l)"
      ],
      "execution_count": 1,
      "outputs": [
        {
          "output_type": "stream",
          "text": [
            "[2, 4, 8, 10, 14, 16, 20, 22, 26, 28, 32, 34, 38, 40, 44]\n"
          ],
          "name": "stdout"
        }
      ]
    },
    {
      "cell_type": "markdown",
      "metadata": {
        "id": "BOyTXQOofnmT",
        "colab_type": "text"
      },
      "source": [
        "Ques 2:- Write a function to Check whether given two string is anagram or not"
      ]
    },
    {
      "cell_type": "code",
      "metadata": {
        "id": "AeYopZsWfwCn",
        "colab_type": "code",
        "colab": {
          "base_uri": "https://localhost:8080/",
          "height": 67
        },
        "outputId": "a6a4d0e7-2eb4-4c52-a00f-72e9aed03a7e"
      },
      "source": [
        "def anagram(str1, str2):\n",
        "  if(sorted(str1) == sorted(str2)):\n",
        "    print(\"Strings are anagrams\")\n",
        "  else:\n",
        "    print(\"Strings are not anagrams\")\n",
        "\n",
        "str1 = input(\"Enter first string : \")\n",
        "str2 = input(\"Enter second string : \")\n",
        "\n",
        "anagram(str1, str2)"
      ],
      "execution_count": 2,
      "outputs": [
        {
          "output_type": "stream",
          "text": [
            "Enter first string : garima\n",
            "Enter second string : yogi\n",
            "Strings are not anagrams\n"
          ],
          "name": "stdout"
        }
      ]
    },
    {
      "cell_type": "markdown",
      "metadata": {
        "id": "5auhtLSNf3mP",
        "colab_type": "text"
      },
      "source": [
        "Ques 3 Define a class which has at least two methods: getString to get a string from console input printString: to print the string in upper case.Also please include simple test function to test the class methods."
      ]
    },
    {
      "cell_type": "code",
      "metadata": {
        "id": "J-wSD_3Xf7SQ",
        "colab_type": "code",
        "colab": {
          "base_uri": "https://localhost:8080/",
          "height": 50
        },
        "outputId": "70d63839-9b3b-48e3-f682-6e1a21812c9b"
      },
      "source": [
        "class myclass():\n",
        "    def get_String(self):\n",
        "        self.str1 = input()\n",
        "\n",
        "    def print_String(self):\n",
        "        print(self.str1.upper())\n",
        "\n",
        "str1 = myclass()\n",
        "str1.get_String()\n",
        "str1.print_String()"
      ],
      "execution_count": 3,
      "outputs": [
        {
          "output_type": "stream",
          "text": [
            "garima\n",
            "GARIMA\n"
          ],
          "name": "stdout"
        }
      ]
    }
  ]
}